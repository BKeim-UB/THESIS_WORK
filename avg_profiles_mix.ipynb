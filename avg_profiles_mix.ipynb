{
 "cells": [
  {
   "cell_type": "markdown",
   "id": "19aca638",
   "metadata": {},
   "source": [
    "# Avg_profiles_Mix Function\n",
    "\n",
    "This function will compute the vertical profiles and the integral of u(z)*rho*C(z)\n",
    "\n",
    "This function is called in the following notebooks:\n",
    "\n",
    "    ...\n",
    "    ...\n",
    "    ..."
   ]
  },
  {
   "cell_type": "code",
   "execution_count": 1,
   "id": "f9d7a4f7",
   "metadata": {},
   "outputs": [],
   "source": [
    "import numpy as numpy \n",
    "#can't use np since that is used as a variable for length within the function\n",
    "\n",
    "from mpmath import *\n",
    "mp.dps = 15; mp.pretty = True\n",
    "# allows us to use the exponential integral function ein()"
   ]
  },
  {
   "cell_type": "code",
   "execution_count": 5,
   "id": "6b607cfa",
   "metadata": {},
   "outputs": [],
   "source": [
    "def avg_profiles_mix(h,settl_vel,k,friction_coeff,rhoC_avg,\n",
    "                     u_guess,beta,h0,b,u_coeff,u_rel0,rhos,rhog):\n",
    "    \n",
    "    # The input here are the depth-averaged velocity and the depth-averaged\n",
    "    # values of rho*C(z). We compute the vertical profiles and the integral of \n",
    "    # u(z)*rho*C(z), and we compare this value with the desired one to update\n",
    "    # the average velocity.\n",
    "\n",
    "    # Shear velocity computed from u_guess\n",
    "    u_star = u_guess * numpy.sqrt(friction_coeff) \n",
    "\n",
    "    # Rouse numbers for the particle classes\n",
    "    Pn = settl_vel / ( k * u_star ) \n",
    "\n",
    "    # number of particle classes\n",
    "    np = len(settl_vel) \n",
    "\n",
    "    # array for depth-averaged value of rho*u(z)*C(z)\n",
    "    rho_u_C = numpy.zeros(1,np) \n",
    "\n",
    "    rhoC_int = numpy.zeros(1,np) \n",
    "\n",
    "    for i in range(0,np-1):\n",
    "\n",
    "        a = -(0.6*Pn[i]*beta)/h  \n",
    "\n",
    "        int_ = ( ( numpy.exp(a*h0) -1.0 )/a + numpy.exp(a*h0)*(h-h0) )/h \n",
    "        # Had to rename variable 'int' to 'int_' since int appears as a built in function\n",
    "\n",
    "        C_rel_max = 1.0/int_ \n",
    "\n",
    "        # relative concentration C_rel at depth h0 (from the bottom)\n",
    "        # C_rel is defined as C(z)/C_avg\n",
    "        C_rel0 = C_rel_max * numpy.exp(a*h0) \n",
    "\n",
    "        # depth-averaged value of rho*C(z)\n",
    "        # this results from the sum of the log region with thickness h0 and the \n",
    "        # constant region with thickness h-h0\n",
    "        rhoC_int[i] = rhoC_avg[i] * ( C_rel_max * ( numpy.exp(a*h0) - 1.0 ) / a + (h-h0)*C_rel0 ) / h   \n",
    "\n",
    "        # we compute the integral in the log region of u_tilde(z)*C_rel(z), where \n",
    "        # u_tilde is defined as u(z)/(u_guess*u_coeff*sqrt(friction_coeff)) \n",
    "        y = h0 \n",
    "        int_h0 = ( numpy.exp(a*y)*numpy.log(b*y+1.0) + numpy.exp(-a/b) * ein( -a*(y+1.0/b) ) ) / a \n",
    "        y = 0 \n",
    "        int_0 = ( numpy.exp(a*y)*numpy.log(b*y+1.0) + numpy.exp(-a/b) * ein( -a*(y+1.0/b) ) ) / a \n",
    "\n",
    "        # integral of u_rel(z)*C_rel(z) in the log region (0<=z<=h0)\n",
    "        # here u_rel(z) = u(z)/u_guess \n",
    "        int_def = u_coeff * numpy.sqrt(friction_coeff) / k * C_rel_max * (int_h0-int_0) \n",
    "\n",
    "        # we add the contribution of the integral of the constant region, we\n",
    "        # average by dividing by h and we multiply by the density of solid and\n",
    "        # average concentration and by u_guess.\n",
    "        rho_u_C[i] = rhoC_avg[i] * u_guess * ( int_def + ( h - h0 ) * C_rel0 * u_rel0 ) / h \n",
    "\n",
    "    # we add the contribution of the gas phase to the depth-averaged mixture \n",
    "    # density. This value should be equal to that used to compute the input\n",
    "    # values rhoC_avg.\n",
    "    rhom_avg = rhog + sum((rhos-rhog)/rhos*rhoC_int) \n",
    "\n",
    "    # we add the contribution of the gas phase to the mixture depth-averaged \n",
    "    # momentum\n",
    "    uRho_avg_new = ( u_guess*rhog + sum((rhos-rhog)/rhos*rho_u_C) ) \n"
   ]
  },
  {
   "cell_type": "code",
   "execution_count": null,
   "id": "1d576f46",
   "metadata": {},
   "outputs": [],
   "source": []
  },
  {
   "cell_type": "code",
   "execution_count": null,
   "id": "67c011e3",
   "metadata": {},
   "outputs": [],
   "source": []
  },
  {
   "cell_type": "code",
   "execution_count": null,
   "id": "6c932bb8",
   "metadata": {},
   "outputs": [],
   "source": []
  },
  {
   "cell_type": "code",
   "execution_count": null,
   "id": "4a59d7bc",
   "metadata": {},
   "outputs": [],
   "source": []
  },
  {
   "cell_type": "code",
   "execution_count": null,
   "id": "0f3af8b6",
   "metadata": {},
   "outputs": [],
   "source": []
  },
  {
   "cell_type": "code",
   "execution_count": null,
   "id": "a84712cf",
   "metadata": {},
   "outputs": [],
   "source": []
  }
 ],
 "metadata": {
  "kernelspec": {
   "display_name": "Python 3",
   "language": "python",
   "name": "python3"
  },
  "language_info": {
   "codemirror_mode": {
    "name": "ipython",
    "version": 3
   },
   "file_extension": ".py",
   "mimetype": "text/x-python",
   "name": "python",
   "nbconvert_exporter": "python",
   "pygments_lexer": "ipython3",
   "version": "3.7.6"
  }
 },
 "nbformat": 4,
 "nbformat_minor": 5
}
