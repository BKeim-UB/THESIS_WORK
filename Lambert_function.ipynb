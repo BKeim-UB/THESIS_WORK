{
 "cells": [
  {
   "cell_type": "markdown",
   "id": "434d1463",
   "metadata": {},
   "source": [
    "# Lambert Function"
   ]
  },
  {
   "cell_type": "markdown",
   "id": "1b0fb41f",
   "metadata": {},
   "source": [
    "We want to calculate the height of the boundary layer $d_{bl}$, for all values of height $H$, given different values of the roughness parameter $k_s$."
   ]
  },
  {
   "cell_type": "code",
   "execution_count": 16,
   "id": "b09523fb",
   "metadata": {},
   "outputs": [],
   "source": [
    "import numpy as numpy \n",
    "#can't use np since that is used as a variable for length within the function\n",
    "\n",
    "from mpmath import *\n",
    "mp.dps = 15; mp.pretty = True\n",
    "# allows us to use the exponential integral function ein()\n",
    "\n",
    "# We need something to compute the lambert function in python\n",
    "from scipy.special import lambertw # imports the lambert function and returns complex result"
   ]
  },
  {
   "cell_type": "code",
   "execution_count": 17,
   "id": "bec8d4a8",
   "metadata": {},
   "outputs": [],
   "source": [
    "\n",
    "k = .4  \n",
    "friction_coeff = 0.01    \n",
    "roughness = [.001,.1,1,10]  \n",
    "\n",
    "H_crit_norm = (1/30)*(numpy.exp((k/numpy.sqrt(friction_coeff)) + 1)-1) \n",
    "\n",
    "n_val = 1000\n",
    "\n",
    "turb_velocity_coeff = numpy.zeros(n_val) \n",
    "boundary_thickness_norm = numpy.zeros(n_val) \n",
    "u_max_rel = numpy.zeros(n_val) \n",
    "\n",
    "for q in range(0,len(roughness)-1):\n",
    "    \n",
    "    k_s    = roughness[q]  \n",
    "    H_crit = H_crit_norm*k_s \n",
    "    H      = 0   \n",
    "    flow_height_norm = numpy.logspace(-5,5,n_val) \n",
    "    flow_height      = flow_height_norm*k_s  \n",
    "    \n",
    "    \n",
    "    \n",
    "    for i in range(0,len(flow_height)-1):\n",
    "        if flow_height_norm[i] >= H_crit_norm :\n",
    "            \n",
    "            turb_velocity_coeff[i] = 1.0 \n",
    "            \n",
    "            boundary_thickness_norm[i] = -flow_height_norm[i]*numpy.real(lambertw(-(numpy.exp(k/numpy.sqrt(friction_coeff))) / (30*flow_height_norm[i]))) \n",
    "            \n",
    "            u_max_rel[i] = turb_velocity_coeff[i] * numpy.sqrt(friction_coeff) / k * numpy.log( 30.0*boundary_thickness_norm[i] + 1.0 ) \n",
    "            \n",
    "            \n",
    "        else:\n",
    "            \n",
    "            turb_velocity_coeff[i] =  k / (((1.0 + 1.0 / (30*flow_height_norm[i])) * numpy.log((30*flow_height_norm[i]) + 1) - 1.0)*numpy.sqrt(friction_coeff)) \n",
    "            \n",
    "            u_max_rel[i] = turb_velocity_coeff[i] * numpy.sqrt(friction_coeff)/ k * numpy.log( 30.0*flow_height_norm[i] + 1.0 ) \n",
    "            \n",
    "            boundary_thickness_norm[i] = flow_height_norm[i] "
   ]
  },
  {
   "cell_type": "markdown",
   "id": "a8380f87",
   "metadata": {},
   "source": [
    "### Plots "
   ]
  },
  {
   "cell_type": "code",
   "execution_count": null,
   "id": "d55a4aee",
   "metadata": {},
   "outputs": [],
   "source": []
  }
 ],
 "metadata": {
  "kernelspec": {
   "display_name": "Python 3",
   "language": "python",
   "name": "python3"
  },
  "language_info": {
   "codemirror_mode": {
    "name": "ipython",
    "version": 3
   },
   "file_extension": ".py",
   "mimetype": "text/x-python",
   "name": "python",
   "nbconvert_exporter": "python",
   "pygments_lexer": "ipython3",
   "version": "3.7.6"
  }
 },
 "nbformat": 4,
 "nbformat_minor": 5
}
