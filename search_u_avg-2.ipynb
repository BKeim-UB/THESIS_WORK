{
 "cells": [
  {
   "cell_type": "code",
   "execution_count": 1,
   "id": "d459906c",
   "metadata": {},
   "outputs": [],
   "source": [
    "import numpy as np"
   ]
  },
  {
   "cell_type": "markdown",
   "id": "a09714b3",
   "metadata": {},
   "source": [
    "####  1) We want to compute $$ \\int u*u*C $$\n",
    "\n",
    "Where $u$ is the depth averaged velocity, and $C$ is the depth averaged concentration\n",
    "\n",
    "2) correct factor 0.6 by computing the correct value with non-singular velocity profile (SEE MIEDEMA 5.3.44)\n",
    "\n",
    "3) compute ratio of concentration at z=0 and average concentration (DONE)"
   ]
  },
  {
   "cell_type": "code",
   "execution_count": 2,
   "id": "00dd67c7",
   "metadata": {},
   "outputs": [],
   "source": [
    "# Flow average quantities\n",
    "\n",
    "h      = 10.00  # Flow thickness, in meters\n",
    "uC_avg =  0.01  # Depth averaged product of velocity and concentration (u*sum(C_i))"
   ]
  },
  {
   "cell_type": "code",
   "execution_count": 3,
   "id": "f81fd1c9",
   "metadata": {},
   "outputs": [
    {
     "name": "stdout",
     "output_type": "stream",
     "text": [
      "[0.05  0.006]\n"
     ]
    }
   ],
   "source": [
    "# particles average quantities\n",
    "\n",
    "C_avg = np.zeros(2) # initialize vector\n",
    "C_avg[0] = 0.050    # depth-averaged volumetric fraction\n",
    "C_avg[1] = 0.006    # depth-averaged volumetric fraction\n",
    "np = len(C_avg)     # variable for length of Concentration vector\n",
    "\n",
    "print(C_avg) # check assignment"
   ]
  },
  {
   "cell_type": "code",
   "execution_count": 4,
   "id": "9f776391",
   "metadata": {
    "scrolled": true
   },
   "outputs": [
    {
     "name": "stdout",
     "output_type": "stream",
     "text": [
      "[0.05 0.5 ]\n"
     ]
    }
   ],
   "source": [
    "# particles parameters\n",
    "import numpy as np\n",
    "settl_vel = np.zeros(2) # initialize vector\n",
    "\n",
    "settl_vel[0] = 0.05  # [m/s]\n",
    "settl_vel[1] = 0.5   # [m/s]\n",
    "\n",
    "print(settl_vel) # check assignment"
   ]
  },
  {
   "cell_type": "code",
   "execution_count": 5,
   "id": "ff48d3b1",
   "metadata": {},
   "outputs": [],
   "source": [
    "# fixed parameters\n",
    "k    = 0.4             # Von Karman constant\n",
    "k_s  = 0.1             # substrate roughness [m] \n",
    "beta = 1.0             # ratio of momentum and mass diffusivity (Schmidt number)\n",
    "friction_coeff = 0.01  # friction coefficient"
   ]
  },
  {
   "cell_type": "markdown",
   "id": "38df077f",
   "metadata": {},
   "source": [
    "$H_{crit}$ is a critical thickness above which there is a constant free stream velocity. \n",
    "\n",
    "Below $H_{crit}$ we only have the logarithmic velocity profile.\n",
    "\n",
    "$H_{crit}$ is a function of $k$, the Von Karmann Constant, $k_s$, the substrate roughness,  and $C_f$, the coefficient of friction.\n",
    "\n",
    "\n",
    "$H_{crit_{rel}}$ is the non-dimensional crtitical thickness, which depends on $k$ and the friction coefficient $C_f$ only"
   ]
  },
  {
   "cell_type": "markdown",
   "id": "ec51c4a8",
   "metadata": {},
   "source": [
    "$$ a = \\frac{k}{\\sqrt{C_f}}+1.0$$\n",
    "\n",
    "\n",
    "$$ H_{crit_{rel}} = \\frac{1}{30} * \\left[\\frac{-a}{\\mathcal{W}\\left(-a*e^{-a}\\right)} -1.0 \\right] $$\n",
    "\n",
    "where $\\mathcal{W}$ is the $\\textit{lambert W}$ or $ \\textit{product log}$ function"
   ]
  },
  {
   "cell_type": "code",
   "execution_count": 6,
   "id": "8a3c1d07",
   "metadata": {},
   "outputs": [
    {
     "name": "stdout",
     "output_type": "stream",
     "text": [
      "(0.8526055020137254+0j)\n"
     ]
    }
   ],
   "source": [
    "# We need something to compute the lambert function in python\n",
    "\n",
    "from scipy.special import lambertw # imports the lambert function and returns complex result"
   ]
  },
  {
   "cell_type": "code",
   "execution_count": 7,
   "id": "28adf550",
   "metadata": {},
   "outputs": [
    {
     "name": "stdout",
     "output_type": "stream",
     "text": [
      "Log profile thickness =  (0.47441640531351936+0j)\n"
     ]
    }
   ],
   "source": [
    "import numpy as np\n",
    "\n",
    "a = k/np.sqrt(friction_coeff)+1.0\n",
    "H_crit_rel = 1.0/30.0 * ( -a / lambertw(-a*np.exp(-a)) -1.0 )\n",
    "\n",
    "print(\"Log profile thickness = \",H_crit_rel*k_s)"
   ]
  },
  {
   "cell_type": "markdown",
   "id": "2c467dcf",
   "metadata": {},
   "source": [
    "The profile parameters depend on:  \n",
    "\n",
    "# $\\frac{h}{k_s}$\n",
    "\n",
    "not on the absolute value of $h$.\n",
    "\n"
   ]
  },
  {
   "cell_type": "code",
   "execution_count": 8,
   "id": "ccc402f3",
   "metadata": {
    "scrolled": true
   },
   "outputs": [
    {
     "name": "stdout",
     "output_type": "stream",
     "text": [
      "100.0\n"
     ]
    }
   ],
   "source": [
    "h_rel = h/k_s"
   ]
  },
  {
   "cell_type": "markdown",
   "id": "25eb9d44",
   "metadata": {},
   "source": [
    "#### "
   ]
  },
  {
   "cell_type": "markdown",
   "id": "aa3b5f06",
   "metadata": {},
   "source": [
    "We search for $ h_{0_{rel}} $ such that the average integral between 0 and $h_{rel}$ is equal to 1\n",
    "For $h_{rel} > H_{{crit}_{rel}}$ this integral is the sum of two pieces:\n",
    "1) the integral between 0 and $h_{0_{rel}}$ of the log profile, and \n",
    "\n",
    "\n",
    "2) the integral between $h_{0_{rel}}$ and $h_{rel}$ of the costant profile"
   ]
  },
  {
   "cell_type": "markdown",
   "id": "5a56d262",
   "metadata": {},
   "source": [
    "When $ h_{rel} <= H_{crit_{rel}}$ we have only the log profile and we have to rescale it in order to have the integral between o and $h_{rel}$ equal to 1. The factor used to scale the velocity is $u_{coeff}$"
   ]
  },
  {
   "cell_type": "code",
   "execution_count": null,
   "id": "b2ced383",
   "metadata": {},
   "outputs": [],
   "source": [
    "if h_rel > H_crit_rel:\n",
    "    a = h_rel * k/sqrt(friction_coeff)\n",
    "    b = 1.0/30.0 + h_rel\n",
    "    c = 30.0\n",
    "\n",
    "    # solve b*log(c*z+1)-z=a for z\n",
    "    d = a/b-1.0/(b*c)\n",
    "    \n",
    "    # Then:\n",
    "    h0_rel = -b*lambertw( -exp(d)/(b*c) ) - 1.0 / c\n",
    "    u_coeff = 1.0\n",
    "    \n",
    "else:\n",
    "    h0_rel = h_rel\n",
    "    u_coeff = k/sqrt(friction_coeff)/( ( 1 + 1/(30*h_rel) )*log( 30.0*h_rel + 1.0 )-1.0)\n",
    "    "
   ]
  },
  {
   "cell_type": "code",
   "execution_count": 2,
   "id": "f02fecb2",
   "metadata": {},
   "outputs": [
    {
     "ename": "NameError",
     "evalue": "name 'h0_rel' is not defined",
     "output_type": "error",
     "traceback": [
      "\u001b[0;31m---------------------------------------------------------------------------\u001b[0m",
      "\u001b[0;31mNameError\u001b[0m                                 Traceback (most recent call last)",
      "\u001b[0;32m<ipython-input-2-fd9a3fadb36f>\u001b[0m in \u001b[0;36m<module>\u001b[0;34m\u001b[0m\n\u001b[0;32m----> 1\u001b[0;31m \u001b[0mh0\u001b[0m \u001b[0;34m=\u001b[0m \u001b[0mh0_rel\u001b[0m \u001b[0;34m*\u001b[0m \u001b[0mk_s\u001b[0m\u001b[0;34m;\u001b[0m\u001b[0;34m\u001b[0m\u001b[0;34m\u001b[0m\u001b[0m\n\u001b[0m\u001b[1;32m      2\u001b[0m \u001b[0mb\u001b[0m  \u001b[0;34m=\u001b[0m \u001b[0;36m30.0\u001b[0m \u001b[0;34m/\u001b[0m \u001b[0mk_s\u001b[0m\u001b[0;34m;\u001b[0m\u001b[0;34m\u001b[0m\u001b[0;34m\u001b[0m\u001b[0m\n\u001b[1;32m      3\u001b[0m \u001b[0mu_rel0\u001b[0m \u001b[0;34m=\u001b[0m \u001b[0mu_coeff\u001b[0m \u001b[0;34m*\u001b[0m \u001b[0msqrt\u001b[0m\u001b[0;34m(\u001b[0m\u001b[0mfriction_coeff\u001b[0m\u001b[0;34m)\u001b[0m \u001b[0;34m/\u001b[0m \u001b[0mk\u001b[0m \u001b[0;34m*\u001b[0m \u001b[0mlog\u001b[0m\u001b[0;34m(\u001b[0m \u001b[0mb\u001b[0m\u001b[0;34m*\u001b[0m\u001b[0mh0\u001b[0m \u001b[0;34m+\u001b[0m \u001b[0;36m1.0\u001b[0m \u001b[0;34m)\u001b[0m\u001b[0;34m;\u001b[0m\u001b[0;34m\u001b[0m\u001b[0;34m\u001b[0m\u001b[0m\n\u001b[1;32m      4\u001b[0m \u001b[0;34m\u001b[0m\u001b[0m\n\u001b[1;32m      5\u001b[0m \u001b[0;31m# search convergence of u_avg\u001b[0m\u001b[0;34m\u001b[0m\u001b[0;34m\u001b[0m\u001b[0;34m\u001b[0m\u001b[0m\n",
      "\u001b[0;31mNameError\u001b[0m: name 'h0_rel' is not defined"
     ]
    }
   ],
   "source": [
    "h0 = h0_rel * k_s\n",
    "b  = 30.0 / k_s\n",
    "u_rel0 = u_coeff * sqrt(friction_coeff) / k * log( b*h0 + 1.0 )\n",
    "\n",
    "# search convergence of u_avg\n",
    "n = 200\n",
    "\n",
    "# initial guess for average velocity\n",
    "u_guess = uC_avg / sum(C_avg)"
   ]
  },
  {
   "cell_type": "markdown",
   "id": "c6aae7d4",
   "metadata": {},
   "source": [
    "loop to compute the average velocity from average C(i) and average uC, \n",
    "\n",
    "### $$ = \\frac{1}{h * int * \\sum \\left[u*C_i\\right]} $$"
   ]
  },
  {
   "cell_type": "markdown",
   "id": "aac52be9",
   "metadata": {},
   "source": [
    "for i=1:n:\n",
    "\n",
    "[u_new_avg,C_new_avg,uC_new_avg] = avg_profiles(h,settl_vel,k,friction_coeff,uC_avg,C_avg,u_guess,beta,h0,b,u_coeff,u_rel0)\n",
    "\n",
    "    if ( abs(u_guess-u_new_avg)/u_guess < 1.e-10 )\n",
    "\n",
    "        u_guess = u_new_avg;\n",
    "        break\n",
    "\n",
    "    end\n",
    "\n",
    "    u_guess = u_new_avg;\n",
    "\n",
    "    fprintf('u_guess = %e m/s \\n',u_new_avg)\n",
    "\n",
    "end\n",
    "\n",
    "fprintf('Iteration = %i \\n',i-1);\n"
   ]
  },
  {
   "cell_type": "code",
   "execution_count": null,
   "id": "6c2770db",
   "metadata": {},
   "outputs": [],
   "source": []
  },
  {
   "cell_type": "code",
   "execution_count": null,
   "id": "5fc7a0ad",
   "metadata": {},
   "outputs": [],
   "source": []
  },
  {
   "cell_type": "code",
   "execution_count": null,
   "id": "e21addca",
   "metadata": {},
   "outputs": [],
   "source": []
  },
  {
   "cell_type": "code",
   "execution_count": null,
   "id": "e9cc6e22",
   "metadata": {},
   "outputs": [],
   "source": []
  },
  {
   "cell_type": "code",
   "execution_count": null,
   "id": "90f0f5ae",
   "metadata": {},
   "outputs": [],
   "source": []
  },
  {
   "cell_type": "code",
   "execution_count": null,
   "id": "328f3d14",
   "metadata": {},
   "outputs": [],
   "source": []
  },
  {
   "cell_type": "code",
   "execution_count": null,
   "id": "0061c4d4",
   "metadata": {},
   "outputs": [],
   "source": []
  }
 ],
 "metadata": {
  "kernelspec": {
   "display_name": "Python 3",
   "language": "python",
   "name": "python3"
  },
  "language_info": {
   "codemirror_mode": {
    "name": "ipython",
    "version": 3
   },
   "file_extension": ".py",
   "mimetype": "text/x-python",
   "name": "python",
   "nbconvert_exporter": "python",
   "pygments_lexer": "ipython3",
   "version": "3.7.6"
  }
 },
 "nbformat": 4,
 "nbformat_minor": 5
}
