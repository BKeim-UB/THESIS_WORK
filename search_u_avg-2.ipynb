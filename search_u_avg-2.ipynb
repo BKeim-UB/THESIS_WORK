{
 "cells": [
  {
   "cell_type": "code",
   "execution_count": 37,
   "id": "d459906c",
   "metadata": {},
   "outputs": [],
   "source": [
    "import numpy as numpy\n",
    "from mpmath import *\n",
    "mp.dps = 15; mp.pretty = True"
   ]
  },
  {
   "cell_type": "markdown",
   "id": "a09714b3",
   "metadata": {},
   "source": [
    "####  1) We want to compute $$ \\int u*u*C $$\n",
    "\n",
    "Where $u$ is the depth averaged velocity, and $C$ is the depth averaged concentration\n",
    "\n",
    "2) correct factor 0.6 by computing the correct value with non-singular velocity profile (SEE MIEDEMA 5.3.44)\n",
    "\n",
    "3) compute ratio of concentration at z=0 and average concentration (DONE)"
   ]
  },
  {
   "cell_type": "code",
   "execution_count": 38,
   "id": "00dd67c7",
   "metadata": {},
   "outputs": [],
   "source": [
    "# Flow average quantities\n",
    "\n",
    "h      = 10.00  # Flow thickness, in meters\n",
    "uC_avg =  0.01  # Depth averaged product of velocity and concentration (u*sum(C_i))"
   ]
  },
  {
   "cell_type": "code",
   "execution_count": 39,
   "id": "f81fd1c9",
   "metadata": {},
   "outputs": [
    {
     "name": "stdout",
     "output_type": "stream",
     "text": [
      "[0.05  0.006]\n"
     ]
    }
   ],
   "source": [
    "# particles average quantities\n",
    "\n",
    "C_avg = numpy.zeros(2) # initialize vector\n",
    "C_avg[0] = 0.050    # depth-averaged volumetric fraction\n",
    "C_avg[1] = 0.006    # depth-averaged volumetric fraction\n",
    "np = len(C_avg)     # variable for length of Concentration vector\n",
    "\n",
    "print(C_avg) # check assignment"
   ]
  },
  {
   "cell_type": "code",
   "execution_count": 40,
   "id": "9f776391",
   "metadata": {
    "scrolled": true
   },
   "outputs": [
    {
     "name": "stdout",
     "output_type": "stream",
     "text": [
      "[0.05 0.5 ]\n"
     ]
    }
   ],
   "source": [
    "# particles parameters\n",
    "settl_vel = numpy.zeros(2) # initialize vector\n",
    "\n",
    "settl_vel[0] = 0.05  # [m/s]\n",
    "settl_vel[1] = 0.5   # [m/s]\n",
    "\n",
    "print(settl_vel) # check assignment"
   ]
  },
  {
   "cell_type": "code",
   "execution_count": 41,
   "id": "ff48d3b1",
   "metadata": {},
   "outputs": [],
   "source": [
    "# fixed parameters\n",
    "k    = 0.4             # Von Karman constant\n",
    "k_s  = 0.1             # substrate roughness [m] \n",
    "beta = 1.0             # ratio of momentum and mass diffusivity (Schmidt number)\n",
    "friction_coeff = 0.01  # friction coefficient"
   ]
  },
  {
   "cell_type": "markdown",
   "id": "38df077f",
   "metadata": {},
   "source": [
    "$H_{crit}$ is a critical thickness above which there is a constant free stream velocity. \n",
    "\n",
    "Below $H_{crit}$ we only have the logarithmic velocity profile.\n",
    "\n",
    "$H_{crit}$ is a function of $k$, the Von Karmann Constant, $k_s$, the substrate roughness,  and $C_f$, the coefficient of friction.\n",
    "\n",
    "\n",
    "$H_{crit_{rel}}$ is the non-dimensional crtitical thickness, which depends on $k$ and the friction coefficient $C_f$ only"
   ]
  },
  {
   "cell_type": "markdown",
   "id": "ec51c4a8",
   "metadata": {},
   "source": [
    "$$ a = \\frac{k}{\\sqrt{C_f}}+1.0$$\n",
    "\n",
    "\n",
    "$$ H_{crit_{rel}} = \\frac{1}{30} * \\left[\\frac{-a}{\\mathcal{W}\\left(-a*e^{-a}\\right)} -1.0 \\right] $$\n",
    "\n",
    "where $\\mathcal{W}$ is the $\\textit{lambert W}$ or $ \\textit{product log}$ function"
   ]
  },
  {
   "cell_type": "code",
   "execution_count": 42,
   "id": "8a3c1d07",
   "metadata": {},
   "outputs": [],
   "source": [
    "# We need something to compute the lambert function in python\n",
    "\n",
    "from scipy.special import lambertw # imports the lambert function and returns complex result"
   ]
  },
  {
   "cell_type": "code",
   "execution_count": 45,
   "id": "28adf550",
   "metadata": {},
   "outputs": [
    {
     "name": "stdout",
     "output_type": "stream",
     "text": [
      "Log profile thickness =  (0.47441640531351936+0j)\n"
     ]
    }
   ],
   "source": [
    "a = k/numpy.sqrt(friction_coeff)+1.0\n",
    "H_crit_rel = 1.0/30.0 * ( -a / lambertw(-a*numpy.exp(-a)) -1.0 )\n",
    "\n",
    "print(\"Log profile thickness = \",H_crit_rel*k_s)"
   ]
  },
  {
   "cell_type": "markdown",
   "id": "2c467dcf",
   "metadata": {},
   "source": [
    "The profile parameters depend on:  \n",
    "\n",
    "# $\\frac{h}{k_s}$\n",
    "\n",
    "not on the absolute value of $h$.\n",
    "\n"
   ]
  },
  {
   "cell_type": "code",
   "execution_count": 46,
   "id": "ccc402f3",
   "metadata": {
    "scrolled": true
   },
   "outputs": [],
   "source": [
    "h_rel = h/k_s"
   ]
  },
  {
   "cell_type": "markdown",
   "id": "25eb9d44",
   "metadata": {},
   "source": [
    "#### "
   ]
  },
  {
   "cell_type": "markdown",
   "id": "aa3b5f06",
   "metadata": {},
   "source": [
    "We search for $ h_{0_{rel}} $ such that the average integral between 0 and $h_{rel}$ is equal to 1\n",
    "For $h_{rel} > H_{{crit}_{rel}}$ this integral is the sum of two pieces:\n",
    "1) the integral between 0 and $h_{0_{rel}}$ of the log profile, and \n",
    "\n",
    "\n",
    "2) the integral between $h_{0_{rel}}$ and $h_{rel}$ of the costant profile"
   ]
  },
  {
   "cell_type": "markdown",
   "id": "5a56d262",
   "metadata": {},
   "source": [
    "When $ h_{rel} <= H_{crit_{rel}}$ we have only the log profile and we have to rescale it in order to have the integral between o and $h_{rel}$ equal to 1. The factor used to scale the velocity is $u_{coeff}$"
   ]
  },
  {
   "cell_type": "code",
   "execution_count": 48,
   "id": "b2ced383",
   "metadata": {},
   "outputs": [],
   "source": [
    "if h_rel > H_crit_rel:\n",
    "    a = h_rel * k/numpy.sqrt(friction_coeff)\n",
    "    b = 1.0/30.0 + h_rel\n",
    "    c = 30.0\n",
    "\n",
    "    # solve b*log(c*z+1)-z=a for z\n",
    "    d = a/b-1.0/(b*c)\n",
    "    \n",
    "    # Then:\n",
    "    h0_rel = -b*lambertw( -numpy.exp(d)/(b*c) ) - 1.0 / c\n",
    "    u_coeff = 1.0\n",
    "    \n",
    "else:\n",
    "    h0_rel = h_rel\n",
    "    u_coeff = k/numpy.sqrt(friction_coeff)/( ( 1 + 1/(30*h_rel) )*numpy.log( 30.0*h_rel + 1.0 )-1.0)\n",
    "    "
   ]
  },
  {
   "cell_type": "code",
   "execution_count": 50,
   "id": "f02fecb2",
   "metadata": {},
   "outputs": [],
   "source": [
    "h0 = h0_rel * k_s\n",
    "b  = 30.0 / k_s\n",
    "u_rel0 = u_coeff * numpy.sqrt(friction_coeff) / k * numpy.log( b*h0 + 1.0 )\n",
    "\n",
    "# search convergence of u_avg\n",
    "n = 200\n",
    "\n",
    "# initial guess for average velocity\n",
    "u_guess = uC_avg / sum(C_avg)"
   ]
  },
  {
   "cell_type": "markdown",
   "id": "c6aae7d4",
   "metadata": {},
   "source": [
    "loop to compute the average velocity from average C(i) and average uC, \n",
    "\n",
    "### $$ = \\frac{1}{h * int * \\sum \\left[u*C_i\\right]} $$"
   ]
  },
  {
   "cell_type": "code",
   "execution_count": 76,
   "id": "e4006ea3",
   "metadata": {},
   "outputs": [],
   "source": [
    "import numpy as numpy\n",
    "from mpmath import *\n",
    "mp.dps = 15; mp.pretty = True\n",
    "\n",
    "def avg_profiles(h,settl_vel,k,friction_coeff,uRhoAlpha_avg,rhoAlpha_avg,u_guess,beta,h0,b,u_coeff,u_rel0):\n",
    "    \n",
    "    # The input here are the depth-averaged velocity and the depth-averaged\n",
    "    # values of rho*C(z). We compute the vertical profiles and the integral of \n",
    "    # u(z)*rho*C(z), and we compare this value with the desired one to update\n",
    "    # the average velocity.\n",
    "\n",
    "    # Shear velocity computed from u_guess\n",
    "    u_star = u_guess * numpy.sqrt(friction_coeff)\n",
    "\n",
    "    # Rouse numbers for the particle classes\n",
    "    Pn = settl_vel / ( k * u_star )\n",
    "\n",
    "    # number of particle classes\n",
    "    np = len(settl_vel)\n",
    "\n",
    "    # array for depth-averaged value of rho*u(z)*C(z)\n",
    "    rho_uAlpha = numpy.zeros(np)\n",
    "\n",
    "    rhoAlpha_int = numpy.zeros(np)\n",
    "    \n",
    "    \n",
    "    for i in range(0,np-1):\n",
    "\n",
    "        a = -(0.6*Pn[i]*beta)/h \n",
    "\n",
    "        int = ( ( numpy.exp(a*h0) -1.0 )/a + numpy.exp(a*h0)*(h-h0) )/h \n",
    "\n",
    "        alpha_rel_max = 1.0/int \n",
    "\n",
    "        # relative concentration alpha_rel at depth h0 (from the bottom)\n",
    "        # alpha_rel is defined as alpha(z)/alpha_avg\n",
    "        alpha_rel0 = alpha_rel_max * numpy.exp(a*h0) \n",
    "\n",
    "        # depth-averaged value of rho*C(z)\n",
    "        # this results from the sum of the log region with thickness h0 and the \n",
    "        # constant region with thickness h-h0\n",
    "        rhoAlpha_int[i] = rhoAlpha_avg[i] * ( alpha_rel_max * ( numpy.exp(a*h0) - 1.0 ) / a + (h-h0)*alpha_rel0 ) / h   \n",
    "\n",
    "        # we compute the integral in the log region of u_rel(z)*C_rel(z), where \n",
    "        # u_rel is defined as u(z)/(u_guess*u_coeff*sqrt(friction_coeff)) \n",
    "        y = h0 \n",
    "        int_h0 = ( numpy.exp(a*y)*numpy.log(b*y+1.0) + numpy.exp(-a/b) * ei( -a*(y+1.0/b) ) ) / a \n",
    "        y = 0 \n",
    "        int_0 = ( numpy.exp(a*y)*numpy.log(b*y+1.0) + numpy.exp(-a/b) * ei( -a*(y+1.0/b) ) ) / a \n",
    "\n",
    "        # integral of u_rel(z)*C_rel(z) in the log region (0<=z<=h0)\n",
    "        int_def = u_coeff * numpy.sqrt(friction_coeff) / k * alpha_rel_max * (int_h0-int_0) \n",
    "\n",
    "        # we add the contribution of the integral of the constant region, we\n",
    "        # average by dividing by h and we multiply by the density of solid and\n",
    "        # average concentration\n",
    "        rho_uAlpha[i] = rhoAlpha_av[i] * ( int_def + ( h - h0 ) * alpha_rel0 * u_rel0 ) / h \n",
    "\n",
    "\n",
    "    rhoAlpha_new_avg = sum(rhoAlpha_int) \n",
    "    rho_uAlpha_new_avg = sum(rho_uAlpha) \n",
    "\n",
    "    u_new_avg = uRhoAlpha_avg / ( rho_uAlpha_new_avg) \n",
    "    rho_uAlpha_new_avg = u_new_avg * rho_uAlpha_new_avg \n",
    "    \n",
    "    return([u_new_avg,rhoAlpha_new_avg,rho_uAlpha_new_avg])\n",
    "\n",
    "\n"
   ]
  },
  {
   "cell_type": "code",
   "execution_count": 77,
   "id": "f5ce7c07",
   "metadata": {},
   "outputs": [
    {
     "ename": "TypeError",
     "evalue": "unsupported operand type(s) for *: 'float' and 'method'",
     "output_type": "error",
     "traceback": [
      "\u001b[0;31m---------------------------------------------------------------------------\u001b[0m",
      "\u001b[0;31mTypeError\u001b[0m                                 Traceback (most recent call last)",
      "\u001b[0;32m<ipython-input-77-13b358e94c1a>\u001b[0m in \u001b[0;36m<module>\u001b[0;34m\u001b[0m\n\u001b[1;32m      2\u001b[0m \u001b[0;34m\u001b[0m\u001b[0m\n\u001b[1;32m      3\u001b[0m     [u_new_avg,C_new_avg,uC_new_avg] = avg_profiles(h,settl_vel,k,friction_coeff,uC_avg,C_avg,\n\u001b[0;32m----> 4\u001b[0;31m                                                     u_guess,beta,h0,b,u_coeff,u_rel0)\n\u001b[0m\u001b[1;32m      5\u001b[0m \u001b[0;34m\u001b[0m\u001b[0m\n\u001b[1;32m      6\u001b[0m     \u001b[0;32mif\u001b[0m \u001b[0;34m(\u001b[0m \u001b[0mabs\u001b[0m\u001b[0;34m(\u001b[0m\u001b[0mu_guess\u001b[0m\u001b[0;34m-\u001b[0m\u001b[0mu_new_avg\u001b[0m\u001b[0;34m)\u001b[0m\u001b[0;34m/\u001b[0m\u001b[0mu_guess\u001b[0m \u001b[0;34m<\u001b[0m \u001b[0;36m1.e-10\u001b[0m \u001b[0;34m)\u001b[0m\u001b[0;34m:\u001b[0m\u001b[0;34m\u001b[0m\u001b[0;34m\u001b[0m\u001b[0m\n",
      "\u001b[0;32m<ipython-input-76-a6d2672363e6>\u001b[0m in \u001b[0;36mavg_profiles\u001b[0;34m(h, settl_vel, k, friction_coeff, uRhoAlpha_avg, rhoAlpha_avg, u_guess, beta, h0, b, u_coeff, u_rel0)\u001b[0m\n\u001b[1;32m     27\u001b[0m     \u001b[0;32mfor\u001b[0m \u001b[0mi\u001b[0m \u001b[0;32min\u001b[0m \u001b[0mrange\u001b[0m\u001b[0;34m(\u001b[0m\u001b[0;36m0\u001b[0m\u001b[0;34m,\u001b[0m\u001b[0mnp\u001b[0m\u001b[0;34m-\u001b[0m\u001b[0;36m1\u001b[0m\u001b[0;34m)\u001b[0m\u001b[0;34m:\u001b[0m\u001b[0;34m\u001b[0m\u001b[0;34m\u001b[0m\u001b[0m\n\u001b[1;32m     28\u001b[0m \u001b[0;34m\u001b[0m\u001b[0m\n\u001b[0;32m---> 29\u001b[0;31m         \u001b[0ma\u001b[0m \u001b[0;34m=\u001b[0m \u001b[0;34m-\u001b[0m\u001b[0;34m(\u001b[0m\u001b[0;36m0.6\u001b[0m\u001b[0;34m*\u001b[0m\u001b[0mPn\u001b[0m\u001b[0;34m*\u001b[0m\u001b[0mbeta\u001b[0m\u001b[0;34m)\u001b[0m\u001b[0;34m/\u001b[0m\u001b[0mh\u001b[0m\u001b[0;34m\u001b[0m\u001b[0;34m\u001b[0m\u001b[0m\n\u001b[0m\u001b[1;32m     30\u001b[0m \u001b[0;34m\u001b[0m\u001b[0m\n\u001b[1;32m     31\u001b[0m         \u001b[0mint\u001b[0m \u001b[0;34m=\u001b[0m \u001b[0;34m(\u001b[0m \u001b[0;34m(\u001b[0m \u001b[0mnumpy\u001b[0m\u001b[0;34m.\u001b[0m\u001b[0mexp\u001b[0m\u001b[0;34m(\u001b[0m\u001b[0ma\u001b[0m\u001b[0;34m*\u001b[0m\u001b[0mh0\u001b[0m\u001b[0;34m)\u001b[0m \u001b[0;34m-\u001b[0m\u001b[0;36m1.0\u001b[0m \u001b[0;34m)\u001b[0m\u001b[0;34m/\u001b[0m\u001b[0ma\u001b[0m \u001b[0;34m+\u001b[0m \u001b[0mnumpy\u001b[0m\u001b[0;34m.\u001b[0m\u001b[0mexp\u001b[0m\u001b[0;34m(\u001b[0m\u001b[0ma\u001b[0m\u001b[0;34m*\u001b[0m\u001b[0mh0\u001b[0m\u001b[0;34m)\u001b[0m\u001b[0;34m*\u001b[0m\u001b[0;34m(\u001b[0m\u001b[0mh\u001b[0m\u001b[0;34m-\u001b[0m\u001b[0mh0\u001b[0m\u001b[0;34m)\u001b[0m \u001b[0;34m)\u001b[0m\u001b[0;34m/\u001b[0m\u001b[0mh\u001b[0m\u001b[0;34m\u001b[0m\u001b[0;34m\u001b[0m\u001b[0m\n",
      "\u001b[0;31mTypeError\u001b[0m: unsupported operand type(s) for *: 'float' and 'method'"
     ]
    }
   ],
   "source": [
    "for i in range(0,n):\n",
    "\n",
    "    [u_new_avg,C_new_avg,uC_new_avg] = avg_profiles(h,settl_vel,k,friction_coeff,uC_avg,C_avg,\n",
    "                                                    u_guess,beta,h0,b,u_coeff,u_rel0)\n",
    "\n",
    "    if ( abs(u_guess-u_new_avg)/u_guess < 1.e-10 ):\n",
    "        u_guess = u_new_avg\n",
    "        break\n",
    "\n",
    "\n",
    "    u_guess = u_new_avg\n",
    "\n",
    "    print('u_guess = ', u_new_avg)\n",
    "\n",
    "print('Iteration = ',i)\n"
   ]
  },
  {
   "cell_type": "code",
   "execution_count": 78,
   "id": "6c2770db",
   "metadata": {},
   "outputs": [
    {
     "ename": "NameError",
     "evalue": "name 'u_new_avg' is not defined",
     "output_type": "error",
     "traceback": [
      "\u001b[0;31m---------------------------------------------------------------------------\u001b[0m",
      "\u001b[0;31mNameError\u001b[0m                                 Traceback (most recent call last)",
      "\u001b[0;32m<ipython-input-78-54efd43aa53a>\u001b[0m in \u001b[0;36m<module>\u001b[0;34m\u001b[0m\n\u001b[1;32m      1\u001b[0m \u001b[0;31m# average velocity\u001b[0m\u001b[0;34m\u001b[0m\u001b[0;34m\u001b[0m\u001b[0;34m\u001b[0m\u001b[0m\n\u001b[0;32m----> 2\u001b[0;31m \u001b[0mu_avg\u001b[0m \u001b[0;34m=\u001b[0m \u001b[0mu_new_avg\u001b[0m\u001b[0;34m\u001b[0m\u001b[0;34m\u001b[0m\u001b[0m\n\u001b[0m\u001b[1;32m      3\u001b[0m \u001b[0;34m\u001b[0m\u001b[0m\n\u001b[1;32m      4\u001b[0m \u001b[0;31m# shear velocty\u001b[0m\u001b[0;34m\u001b[0m\u001b[0;34m\u001b[0m\u001b[0;34m\u001b[0m\u001b[0m\n\u001b[1;32m      5\u001b[0m \u001b[0mu_star\u001b[0m \u001b[0;34m=\u001b[0m \u001b[0mu_avg\u001b[0m \u001b[0;34m*\u001b[0m \u001b[0mnumpy\u001b[0m\u001b[0;34m.\u001b[0m\u001b[0msqrt\u001b[0m\u001b[0;34m(\u001b[0m\u001b[0mfriction_coeff\u001b[0m\u001b[0;34m)\u001b[0m\u001b[0;34m\u001b[0m\u001b[0;34m\u001b[0m\u001b[0m\n",
      "\u001b[0;31mNameError\u001b[0m: name 'u_new_avg' is not defined"
     ]
    }
   ],
   "source": [
    "# average velocity\n",
    "u_avg = u_new_avg \n",
    "\n",
    "# shear velocty\n",
    "u_star = u_avg * numpy.sqrt(friction_coeff) \n",
    "\n",
    "# Rouse numbers for different particles\n",
    "Pn = settl_vel / ( k * u_star ) \n",
    "\n",
    "\n",
    "## Check for average values, computed from u_avg and c_avg(i) \n",
    "\n",
    "# average velocity computed as integral of the profile\n",
    "U_int = ( u_avg * ( u_coeff * sqrt(friction_coeff) / k * ( (h0 + 1.0/b)*log(b*h0+1)-h0 ) + (h-h0)*u_rel0 ) ) / h \n",
    "\n",
    "print('Depth-averaged u = ',U_int) \n",
    "\n",
    "uC_int = numpy.zeros(1,2) \n",
    "    "
   ]
  },
  {
   "cell_type": "code",
   "execution_count": 90,
   "id": "5fc7a0ad",
   "metadata": {},
   "outputs": [
    {
     "name": "stdout",
     "output_type": "stream",
     "text": [
      "Rouse Number for solid class 1  =  1\n"
     ]
    },
    {
     "ename": "TypeError",
     "evalue": "unsupported operand type(s) for /: 'float' and 'method'",
     "output_type": "error",
     "traceback": [
      "\u001b[0;31m---------------------------------------------------------------------------\u001b[0m",
      "\u001b[0;31mTypeError\u001b[0m                                 Traceback (most recent call last)",
      "\u001b[0;32m<ipython-input-90-78ce980b3b69>\u001b[0m in \u001b[0;36m<module>\u001b[0;34m\u001b[0m\n\u001b[1;32m      3\u001b[0m     \u001b[0mprint\u001b[0m\u001b[0;34m(\u001b[0m\u001b[0;34m'Rouse Number for solid class'\u001b[0m \u001b[0;34m,\u001b[0m\u001b[0mi\u001b[0m \u001b[0;34m+\u001b[0m \u001b[0;36m1\u001b[0m\u001b[0;34m,\u001b[0m \u001b[0;34m' = '\u001b[0m\u001b[0;34m,\u001b[0m\u001b[0mPn\u001b[0m\u001b[0;34m[\u001b[0m\u001b[0mi\u001b[0m\u001b[0;34m]\u001b[0m\u001b[0;34m)\u001b[0m\u001b[0;34m\u001b[0m\u001b[0;34m\u001b[0m\u001b[0m\n\u001b[1;32m      4\u001b[0m \u001b[0;34m\u001b[0m\u001b[0m\n\u001b[0;32m----> 5\u001b[0;31m     \u001b[0ma\u001b[0m \u001b[0;34m=\u001b[0m \u001b[0;34m-\u001b[0m\u001b[0;34m(\u001b[0m\u001b[0;36m0.6\u001b[0m\u001b[0;34m*\u001b[0m\u001b[0mPn\u001b[0m\u001b[0;34m[\u001b[0m\u001b[0mi\u001b[0m\u001b[0;34m]\u001b[0m\u001b[0;34m/\u001b[0m\u001b[0mbeta\u001b[0m\u001b[0;34m)\u001b[0m\u001b[0;34m/\u001b[0m\u001b[0mh\u001b[0m\u001b[0;34m;\u001b[0m\u001b[0;34m\u001b[0m\u001b[0;34m\u001b[0m\u001b[0m\n\u001b[0m\u001b[1;32m      6\u001b[0m \u001b[0;34m\u001b[0m\u001b[0m\n\u001b[1;32m      7\u001b[0m     \u001b[0mint\u001b[0m \u001b[0;34m=\u001b[0m \u001b[0;34m(\u001b[0m \u001b[0;34m(\u001b[0m \u001b[0mnumpy\u001b[0m\u001b[0;34m.\u001b[0m\u001b[0mexp\u001b[0m\u001b[0;34m(\u001b[0m\u001b[0ma\u001b[0m\u001b[0;34m*\u001b[0m\u001b[0mh0\u001b[0m\u001b[0;34m)\u001b[0m \u001b[0;34m-\u001b[0m\u001b[0;36m1.0\u001b[0m \u001b[0;34m)\u001b[0m\u001b[0;34m/\u001b[0m\u001b[0ma\u001b[0m \u001b[0;34m+\u001b[0m \u001b[0mnumpy\u001b[0m\u001b[0;34m.\u001b[0m\u001b[0mexp\u001b[0m\u001b[0;34m(\u001b[0m\u001b[0ma\u001b[0m\u001b[0;34m*\u001b[0m\u001b[0mh0\u001b[0m\u001b[0;34m)\u001b[0m\u001b[0;34m*\u001b[0m\u001b[0;34m(\u001b[0m\u001b[0mh\u001b[0m\u001b[0;34m-\u001b[0m\u001b[0mh0\u001b[0m\u001b[0;34m)\u001b[0m \u001b[0;34m)\u001b[0m\u001b[0;34m/\u001b[0m\u001b[0mh\u001b[0m\u001b[0;34m;\u001b[0m\u001b[0;34m\u001b[0m\u001b[0;34m\u001b[0m\u001b[0m\n",
      "\u001b[0;31mTypeError\u001b[0m: unsupported operand type(s) for /: 'float' and 'method'"
     ]
    }
   ],
   "source": [
    "for i in range(0,np-1):\n",
    "\n",
    "    print('Rouse Number for solid class' ,i + 1, ' = ',Pn[i])\n",
    "\n",
    "    a = -(0.6*Pn[i]/beta)/h;\n",
    "\n",
    "    int = ( ( numpy.exp(a*h0) -1.0 )/a + numpy.exp(a*h0)*(h-h0) )/h;\n",
    "\n",
    "    C_rel_max = 1.0/int;\n",
    "\n",
    "    C_rel0 = C_rel_max * numpy.exp(a*h0);\n",
    "\n",
    "    # average concentration of particle class i\n",
    "    C_int = C_avg(i) * ( C_rel_max * ( exp(a*h0) - 1.0 ) / a + (h-h0)*C_rel0 ) / h;  \n",
    "\n",
    "    print('Depth-averaged Concentration ',i,' = ',C_int)\n",
    "    \n",
    "    y = h0;\n",
    "    int_h0 = ( numpy.exp(a*y)*numpy.log(b*y+1.0) + numpy.exp(-a/b) * ei( -a*(y+1.0/b) ) ) / a;\n",
    "    y = 0;\n",
    "    int_0 = ( numpy.exp(a*y)*numpy.log(b*y+1.0) + numpy.exp(-a/b) * ei( -a*(y+1.0/b) ) ) / a;\n",
    "\n",
    "    int_def = u_coeff * numpy.sqrt(friction_coeff) / k * C_rel_max * (int_h0-int_0);\n",
    "\n",
    "    # average of u*C(i)\n",
    "    uC_int[i] = u_avg * C_avg(i) * ( int_def + ( h - h0 ) * C_rel0 * u_rel0 ) / h;\n",
    "\n",
    "uC_int_tot = sum(uC_int);\n",
    "\n",
    "print('Depth-averaged u*C = ',uC_int_tot)"
   ]
  },
  {
   "cell_type": "code",
   "execution_count": null,
   "id": "e21addca",
   "metadata": {},
   "outputs": [],
   "source": []
  },
  {
   "cell_type": "code",
   "execution_count": 71,
   "id": "e9cc6e22",
   "metadata": {},
   "outputs": [
    {
     "name": "stdout",
     "output_type": "stream",
     "text": [
      "-0.6\n",
      "-1.2\n",
      "-1.7999999999999998\n"
     ]
    }
   ],
   "source": [
    "Pn = [1,2,3]\n",
    "beta = 1\n",
    "np = 4\n",
    "h = 1\n",
    "\n",
    "for i in range(0,np-1):\n",
    "    a = -(0.6*Pn[i]*beta)/h \n",
    "    print(a)"
   ]
  },
  {
   "cell_type": "code",
   "execution_count": 85,
   "id": "90f0f5ae",
   "metadata": {},
   "outputs": [
    {
     "name": "stdout",
     "output_type": "stream",
     "text": [
      "[1, 4, 9]\n"
     ]
    }
   ],
   "source": [
    "def test(x):\n",
    "    y = x**2\n",
    "    return(y)\n",
    "\n",
    "test(2)\n",
    "\n",
    "[a,b,c] = [test(1),test(2),test(3)]\n",
    "f = [a,b,c]\n",
    "print(f)\n",
    "\n"
   ]
  },
  {
   "cell_type": "code",
   "execution_count": null,
   "id": "328f3d14",
   "metadata": {},
   "outputs": [],
   "source": []
  },
  {
   "cell_type": "code",
   "execution_count": null,
   "id": "0061c4d4",
   "metadata": {},
   "outputs": [],
   "source": []
  }
 ],
 "metadata": {
  "kernelspec": {
   "display_name": "Python 3",
   "language": "python",
   "name": "python3"
  },
  "language_info": {
   "codemirror_mode": {
    "name": "ipython",
    "version": 3
   },
   "file_extension": ".py",
   "mimetype": "text/x-python",
   "name": "python",
   "nbconvert_exporter": "python",
   "pygments_lexer": "ipython3",
   "version": "3.7.6"
  }
 },
 "nbformat": 4,
 "nbformat_minor": 5
}
