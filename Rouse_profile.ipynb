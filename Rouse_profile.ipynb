{
 "cells": [
  {
   "cell_type": "markdown",
   "id": "046b26e0",
   "metadata": {},
   "source": [
    "# Rouse Profiles"
   ]
  },
  {
   "cell_type": "markdown",
   "id": "360e45c5",
   "metadata": {},
   "source": [
    "The Rouse profile is defined by a reference height h0 and a reference concentration c0 (concentration at h0). If we fix the average concentration, we cannot vary both c0 and h0.\n",
    "\n",
    "By reading the Dellino's group papers, it seems that they fix c0 (Table 1, page 2, Scientific Report 2021).\n",
    "If we fix c0, then our unknown is h0.\n",
    "\n",
    "We can normalize both the depth and the concentration, by using reference values of flow thickness and the concentration c0.\n",
    "\n",
    "Thus, h0 represents the relative thickness (0<h0<1) and c is the relative concetration (0<c<c0).\n",
    "We want first to compute the average integral of the relative concetration as a function of h0 and the Rouse number R."
   ]
  },
  {
   "cell_type": "code",
   "execution_count": null,
   "id": "f204cd22",
   "metadata": {},
   "outputs": [],
   "source": [
    "import numpy as numpy \n",
    "#can't use np since that is used as a variable for length within the function\n",
    "\n",
    "from mpmath import *\n",
    "mp.dps = 15; mp.pretty = True\n",
    "# allows us to use the exponential integral function ein()"
   ]
  },
  {
   "cell_type": "code",
   "execution_count": 2,
   "id": "5fa9fdf7",
   "metadata": {},
   "outputs": [],
   "source": [
    "# this is the function for the normlized Rouse profile, defined for h0<h<1.\n",
    "# please note that it does not depend on c0, because it is normalized for\n",
    "# both h and c.\n",
    "\n",
    "def norm_rouse_profile(h,h0,Rouse):\n",
    "    norm_rprofile = (h0/(1-h0))^Rouse * ((1-h)/h)^Rouse \n",
    "    "
   ]
  },
  {
   "cell_type": "code",
   "execution_count": 5,
   "id": "9df71e93",
   "metadata": {},
   "outputs": [
    {
     "ename": "SyntaxError",
     "evalue": "invalid syntax (<ipython-input-5-5b2a099f15cc>, line 28)",
     "output_type": "error",
     "traceback": [
      "\u001b[0;36m  File \u001b[0;32m\"<ipython-input-5-5b2a099f15cc>\"\u001b[0;36m, line \u001b[0;32m28\u001b[0m\n\u001b[0;31m    int_norm_rouse = integral(@(h) norm_rouse_profile(h,h0[j],Rouse[i]),h0[j],1)\u001b[0m\n\u001b[0m                              ^\u001b[0m\n\u001b[0;31mSyntaxError\u001b[0m\u001b[0;31m:\u001b[0m invalid syntax\n"
     ]
    }
   ],
   "source": [
    "\n",
    "# number of values for Rouse number\n",
    "nR = 30 \n",
    "\n",
    "# number of values for relative reference height\n",
    "nh0 = 30 \n",
    "\n",
    "Rouse = numpy.logspace(-2,4,nR) \n",
    "\n",
    "# for h0=1 we have numericla problems when computing the integral, but we\n",
    "# know that the integral will be 1, because c=1 for 0<=h<=h0, thus \n",
    "# int_0^1 c(h) dh =1 \n",
    "h0 = numpy.logspace(-4,-0.0001,nh0) \n",
    "\n",
    "# we initialize the array for the integral\n",
    "Int = numpy.zeros([nh0,nR]) \n",
    "\n",
    "\n",
    "# we compute the integral with a douple loop\n",
    "# the integral of the concentration profile is the sum of two contribution:\n",
    "# a constant concentration value (=1 because it is a relative value) \n",
    "# between 0 and h0 \n",
    "# the normalized Rouse profile between h0 and 1.\n",
    "for i in range(0,nR-1):\n",
    "\n",
    "    for j in range(0,nh0-1):\n",
    "\n",
    "        int_norm_base = h0[j] \n",
    "        int_norm_rouse = integral(@(h) norm_rouse_profile(h,h0[j],Rouse[i]),h0[j],1) \n",
    "        # Not sure what do do with this symbolic integral function... ?\n",
    "        \n",
    "        Int[j,i] = int_norm_base + int_norm_rouse \n",
    "\n",
    "\n",
    "# the first plot show the integral as a function of the Rouse number and\n",
    "# the reference thickness\n",
    "# please note that this is a normalized thickness, where the concetration\n",
    "# profile we integrated was the Rouse profile divided by c0.\n",
    "# For this reason, the obtain the non-normalized integral, we must multiply\n",
    "# by c0.\n"
   ]
  },
  {
   "cell_type": "markdown",
   "id": "dfb5bdee",
   "metadata": {},
   "source": [
    "In terms of the non-normalized quantities, we have:\n",
    "\n",
    "$$ \\frac{h_0}{H}  = \\frac{c_{avg}}{c_0}^{\\left(1 + \\frac{1}{R}\\right)}$$\n",
    "\n",
    "where $h_0$ is the non-normalized reference thickness, \n",
    "\n",
    "$H$ is the flow thickness, \n",
    "\n",
    "$c_{avg}$ is the average concetration, \n",
    "\n",
    "$c_0$ is the reference concentration (0.7 from Dellino), and \n",
    "\n",
    "$R$ is the Rouse number.\n"
   ]
  },
  {
   "cell_type": "markdown",
   "id": "672775a8",
   "metadata": {},
   "source": [
    "##\n",
    "\n",
    "##\n"
   ]
  },
  {
   "cell_type": "markdown",
   "id": "a55cdd51",
   "metadata": {},
   "source": [
    "This fitting has some important properties:\n",
    "1) It is dimensionally correct (same units on left and right sides)\n",
    "\n",
    "2) It converges to the correct values when $R \\rightarrow  0 $ and $R \\rightarrow  \\infty $ \n",
    "\n",
    "3) When the average concentration $C_{avg} \\rightarrow  0 $ , $h_0 \\rightarrow  0 $\n",
    "\n",
    "4) When the average concentration $C_{avg} \\rightarrow  1 $ , $h_0 \\rightarrow  1 $\n"
   ]
  },
  {
   "cell_type": "code",
   "execution_count": null,
   "id": "0d012ded",
   "metadata": {},
   "outputs": [],
   "source": []
  }
 ],
 "metadata": {
  "kernelspec": {
   "display_name": "Python 3",
   "language": "python",
   "name": "python3"
  },
  "language_info": {
   "codemirror_mode": {
    "name": "ipython",
    "version": 3
   },
   "file_extension": ".py",
   "mimetype": "text/x-python",
   "name": "python",
   "nbconvert_exporter": "python",
   "pygments_lexer": "ipython3",
   "version": "3.7.6"
  }
 },
 "nbformat": 4,
 "nbformat_minor": 5
}
