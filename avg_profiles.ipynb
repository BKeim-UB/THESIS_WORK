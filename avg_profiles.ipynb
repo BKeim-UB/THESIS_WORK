{
 "cells": [
  {
   "cell_type": "markdown",
   "id": "30899cb1",
   "metadata": {},
   "source": [
    "# Avg_profiles Function\n",
    "\n",
    "This function will compute the vertical profiles and the integral of u(z)*rho*C(z)\n",
    "\n",
    "This function is called in the following notebooks:\n",
    "\n",
    "    search_u_avg-2\n",
    "    ...\n",
    "    ...\n",
    "    ...\n",
    "    "
   ]
  },
  {
   "cell_type": "code",
   "execution_count": 76,
   "id": "fbcccb07",
   "metadata": {},
   "outputs": [],
   "source": [
    "import numpy as numpy \n",
    "#can't use np since that is used as a variable for length within the function\n",
    "\n",
    "from mpmath import *\n",
    "mp.dps = 15; mp.pretty = True\n",
    "# allows us to use the exponential integral function ein()"
   ]
  },
  {
   "cell_type": "markdown",
   "id": "0b85c86a",
   "metadata": {},
   "source": [
    "\n",
    "\n",
    "\n"
   ]
  },
  {
   "cell_type": "code",
   "execution_count": 78,
   "id": "21ac00a2",
   "metadata": {},
   "outputs": [],
   "source": [
    "def avg_profiles(h,settl_vel,k,friction_coeff,uRhoAlpha_avg,rhoAlpha_avg,\n",
    "                 u_guess,beta,h0,b,u_coeff,u_rel0):\n",
    "    \n",
    "    # The input here are the depth-averaged velocity and the depth-averaged\n",
    "    # values of rho*C(z). We compute the vertical profiles and the integral of \n",
    "    # u(z)*rho*C(z), and we compare this value with the desired one to update\n",
    "    # the average velocity.\n",
    "\n",
    "    # Shear velocity computed from u_guess\n",
    "    u_star = u_guess * numpy.sqrt(friction_coeff)\n",
    "\n",
    "    # Rouse numbers for the particle classes\n",
    "    Pn = settl_vel / ( k * u_star )\n",
    "\n",
    "    # number of particle classes\n",
    "    np = len(settl_vel)\n",
    "\n",
    "    # array for depth-averaged value of rho*u(z)*C(z)\n",
    "    rho_uAlpha = numpy.zeros(np)\n",
    "\n",
    "    rhoAlpha_int = numpy.zeros(np)\n",
    "    \n",
    "    \n",
    "    for i in range(0,np-1):\n",
    "\n",
    "        a = -(0.6*Pn[i]*beta)/h \n",
    "\n",
    "        int = ( ( numpy.exp(a*h0) -1.0 )/a + numpy.exp(a*h0)*(h-h0) )/h \n",
    "\n",
    "        alpha_rel_max = 1.0/int \n",
    "\n",
    "        # relative concentration alpha_rel at depth h0 (from the bottom)\n",
    "        # alpha_rel is defined as alpha(z)/alpha_avg\n",
    "        alpha_rel0 = alpha_rel_max * numpy.exp(a*h0) \n",
    "\n",
    "        # depth-averaged value of rho*C(z)\n",
    "        # this results from the sum of the log region with thickness h0 and the \n",
    "        # constant region with thickness h-h0\n",
    "        rhoAlpha_int[i] = rhoAlpha_avg[i] * ( alpha_rel_max * ( numpy.exp(a*h0) - 1.0 ) / a + (h-h0)*alpha_rel0 ) / h   \n",
    "\n",
    "        # we compute the integral in the log region of u_rel(z)*C_rel(z), where \n",
    "        # u_rel is defined as u(z)/(u_guess*u_coeff*sqrt(friction_coeff)) \n",
    "        y = h0 \n",
    "        int_h0 = ( numpy.exp(a*y)*numpy.log(b*y+1.0) + numpy.exp(-a/b) * ei( -a*(y+1.0/b) ) ) / a \n",
    "        y = 0 \n",
    "        int_0 = ( numpy.exp(a*y)*numpy.log(b*y+1.0) + numpy.exp(-a/b) * ei( -a*(y+1.0/b) ) ) / a \n",
    "\n",
    "        # integral of u_rel(z)*C_rel(z) in the log region (0<=z<=h0)\n",
    "        int_def = u_coeff * numpy.sqrt(friction_coeff) / k * alpha_rel_max * (int_h0-int_0) \n",
    "\n",
    "        # we add the contribution of the integral of the constant region, we\n",
    "        # average by dividing by h and we multiply by the density of solid and\n",
    "        # average concentration\n",
    "        rho_uAlpha[i] = rhoAlpha_av[i] * ( int_def + ( h - h0 ) * alpha_rel0 * u_rel0 ) / h \n",
    "\n",
    "\n",
    "    rhoAlpha_new_avg = sum(rhoAlpha_int) \n",
    "    rho_uAlpha_new_avg = sum(rho_uAlpha) \n",
    "\n",
    "    u_new_avg = uRhoAlpha_avg / ( rho_uAlpha_new_avg) \n",
    "    rho_uAlpha_new_avg = u_new_avg * rho_uAlpha_new_avg \n",
    "    \n",
    "    return([u_new_avg,rhoAlpha_new_avg,rho_uAlpha_new_avg])\n",
    "\n"
   ]
  },
  {
   "cell_type": "markdown",
   "id": "3ee1f3f1",
   "metadata": {},
   "source": [
    "\n",
    "\n"
   ]
  },
  {
   "cell_type": "markdown",
   "id": "4db9bc73",
   "metadata": {},
   "source": [
    "\n",
    "\n"
   ]
  },
  {
   "cell_type": "markdown",
   "id": "c8273cd1",
   "metadata": {},
   "source": [
    "\n",
    "\n"
   ]
  },
  {
   "cell_type": "markdown",
   "id": "ccec5d66",
   "metadata": {},
   "source": [
    "\n",
    "\n",
    "\n",
    "\n"
   ]
  },
  {
   "cell_type": "markdown",
   "id": "c2804677",
   "metadata": {},
   "source": [
    "\n",
    "\n",
    "\n"
   ]
  },
  {
   "cell_type": "code",
   "execution_count": 68,
   "id": "49e55960",
   "metadata": {},
   "outputs": [
    {
     "data": {
      "text/plain": [
       "[16, 17]"
      ]
     },
     "execution_count": 68,
     "metadata": {},
     "output_type": "execute_result"
    }
   ],
   "source": [
    "# Testing syntax \n",
    "\n",
    "def test(x):\n",
    "    x = x**2\n",
    "    return([x,(x+1)])\n",
    "\n",
    "test(4)\n",
    "#  variables need to be written to within the function "
   ]
  },
  {
   "cell_type": "code",
   "execution_count": 74,
   "id": "46c406e5",
   "metadata": {},
   "outputs": [
    {
     "name": "stdout",
     "output_type": "stream",
     "text": [
      "[0. 0. 0. 0. 0.]\n",
      "[1. 0. 0. 0. 0.]\n"
     ]
    }
   ],
   "source": [
    "q = 5\n",
    "print(numpy.zeros(q))\n",
    "empty_vector = numpy.zeros(q)\n",
    "empty_vector[0] = 1\n",
    "print(empty_vector)"
   ]
  },
  {
   "cell_type": "code",
   "execution_count": 57,
   "id": "17270d9c",
   "metadata": {},
   "outputs": [],
   "source": [
    "np = 3\n",
    "rho_uAlpha = numpy.zeros((1,3))\n",
    "rhoAlpha_int = numpy.zeros(np)"
   ]
  },
  {
   "cell_type": "code",
   "execution_count": 58,
   "id": "62eb44aa",
   "metadata": {},
   "outputs": [
    {
     "data": {
      "text/plain": [
       "array([[0.],\n",
       "       [0.]])"
      ]
     },
     "execution_count": 58,
     "metadata": {},
     "output_type": "execute_result"
    }
   ],
   "source": [
    "numpy.zeros((2, 1))"
   ]
  },
  {
   "cell_type": "code",
   "execution_count": null,
   "id": "761c5b0a",
   "metadata": {},
   "outputs": [],
   "source": []
  }
 ],
 "metadata": {
  "kernelspec": {
   "display_name": "Python 3",
   "language": "python",
   "name": "python3"
  },
  "language_info": {
   "codemirror_mode": {
    "name": "ipython",
    "version": 3
   },
   "file_extension": ".py",
   "mimetype": "text/x-python",
   "name": "python",
   "nbconvert_exporter": "python",
   "pygments_lexer": "ipython3",
   "version": "3.7.6"
  }
 },
 "nbformat": 4,
 "nbformat_minor": 5
}
